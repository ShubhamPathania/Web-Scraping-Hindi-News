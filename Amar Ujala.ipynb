{
 "cells": [
  {
   "cell_type": "code",
   "execution_count": 4,
   "id": "russian-eagle",
   "metadata": {},
   "outputs": [],
   "source": [
    "import requests\n",
    "import pandas as pd\n",
    "from bs4 import BeautifulSoup"
   ]
  },
  {
   "cell_type": "code",
   "execution_count": 50,
   "id": "numerous-reset",
   "metadata": {},
   "outputs": [],
   "source": [
    "def news():\n",
    "    df_main = pd.DataFrame(columns=['news', 'area']) # empty dataframe which will collect al the news and its catagory\n",
    "    print('main dataframe created')\n",
    "    def scraping(): # this function will scrap top 3 news from amarujala webseite and store it in df_main dataframe\n",
    "        url = 'https://www.amarujala.com/'\n",
    "        r = requests.get(url)\n",
    "\n",
    "        bs = BeautifulSoup(r.content)\n",
    "\n",
    "\n",
    "        main_page = bs.find('body')\n",
    "\n",
    "        left = main_page.find('div', class_='caption')\n",
    "        left.text\n",
    "\n",
    "\n",
    "        news = [] #heading of the news\n",
    "        area = [] #area or catagory it is related to\n",
    "        right= main_page.find('div', class_='col-xs-12 col-md-12 white-wrapper')\n",
    "        for row in right.find_all('section', class_='like-listing-square auw-lazy-load txt-cut-80 small80'):\n",
    "            cl = row.find('div', class_='image-caption')\n",
    "            h5 = cl.find('h5')\n",
    "            loc = h5.text.rstrip('\\n')\n",
    "            area.append(loc)\n",
    "            h3 =cl.find('h3')\n",
    "            text = h3.text\n",
    "            news.append(text)\n",
    "            print('Scraping function created')\n",
    "    scraping()\n",
    "    \n",
    "    import schedule \n",
    "    import time \n",
    "    import datetime\n",
    "\n",
    "    while datetime.datetime.now().hour <= 18:\n",
    "        schedule.every(5).minutes.do(news_headlines)\n",
    "\n",
    "        while True:\n",
    "            schedule.run_pending()\n",
    "            time.sleep(1)\n",
    "            \n",
    "        i=0\n",
    "        counter = (3*i)\n",
    "        while counter > -1:\n",
    "            df_temp = pd.DataFrame(list(zip(news,area)), index=[counter, counter+1, counter+2] ,columns=['news', 'area'])\n",
    "            i = i+1\n",
    "    \n",
    "\n",
    "        df_main = pd.concat([df_main, df_temp])\n",
    "        \n",
    "        \n",
    "    else:\n",
    "        from datetime import date\n",
    "        today = date.today()\n",
    "        date= today.strftime('%d/%m/%y')\n",
    "        \n",
    "        df_main.to_csv('date.csv')\n",
    "    \n",
    "     \n",
    "        "
   ]
  },
  {
   "cell_type": "code",
   "execution_count": null,
   "id": "bibliographic-helping",
   "metadata": {},
   "outputs": [],
   "source": []
  },
  {
   "cell_type": "code",
   "execution_count": null,
   "id": "circular-onion",
   "metadata": {},
   "outputs": [],
   "source": []
  },
  {
   "cell_type": "code",
   "execution_count": null,
   "id": "unique-wallet",
   "metadata": {},
   "outputs": [],
   "source": []
  },
  {
   "cell_type": "code",
   "execution_count": null,
   "id": "182b17b0-2723-4768-849f-bce3eb28f0bf",
   "metadata": {},
   "outputs": [],
   "source": []
  },
  {
   "cell_type": "code",
   "execution_count": 28,
   "id": "technical-crest",
   "metadata": {},
   "outputs": [],
   "source": []
  },
  {
   "cell_type": "code",
   "execution_count": null,
   "id": "complete-bridge",
   "metadata": {},
   "outputs": [],
   "source": []
  },
  {
   "cell_type": "code",
   "execution_count": null,
   "id": "criminal-defeat",
   "metadata": {},
   "outputs": [],
   "source": []
  },
  {
   "cell_type": "code",
   "execution_count": null,
   "id": "dental-republic",
   "metadata": {},
   "outputs": [],
   "source": []
  },
  {
   "cell_type": "code",
   "execution_count": null,
   "id": "thorough-camcorder",
   "metadata": {},
   "outputs": [],
   "source": []
  },
  {
   "cell_type": "code",
   "execution_count": null,
   "id": "demonstrated-violation",
   "metadata": {},
   "outputs": [],
   "source": []
  },
  {
   "cell_type": "code",
   "execution_count": 78,
   "id": "laden-workplace",
   "metadata": {},
   "outputs": [],
   "source": []
  },
  {
   "cell_type": "code",
   "execution_count": null,
   "id": "collected-sensitivity",
   "metadata": {},
   "outputs": [],
   "source": []
  },
  {
   "cell_type": "code",
   "execution_count": null,
   "id": "novel-tomato",
   "metadata": {},
   "outputs": [],
   "source": []
  },
  {
   "cell_type": "code",
   "execution_count": null,
   "id": "monthly-rates",
   "metadata": {},
   "outputs": [],
   "source": []
  },
  {
   "cell_type": "code",
   "execution_count": null,
   "id": "contrary-depth",
   "metadata": {},
   "outputs": [],
   "source": []
  },
  {
   "cell_type": "code",
   "execution_count": null,
   "id": "stable-phone",
   "metadata": {},
   "outputs": [],
   "source": []
  }
 ],
 "metadata": {
  "kernelspec": {
   "display_name": "Python 3",
   "language": "python",
   "name": "python3"
  },
  "language_info": {
   "codemirror_mode": {
    "name": "ipython",
    "version": 3
   },
   "file_extension": ".py",
   "mimetype": "text/x-python",
   "name": "python",
   "nbconvert_exporter": "python",
   "pygments_lexer": "ipython3",
   "version": "3.9.2"
  }
 },
 "nbformat": 4,
 "nbformat_minor": 5
}
